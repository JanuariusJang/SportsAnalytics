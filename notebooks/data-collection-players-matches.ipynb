{
  "nbformat": 4,
  "nbformat_minor": 0,
  "metadata": {
    "colab": {
      "provenance": []
    },
    "kernelspec": {
      "name": "python3",
      "display_name": "Python 3"
    },
    "language_info": {
      "name": "python"
    }
  },
  "cells": [
    {
      "cell_type": "markdown",
      "source": [
        "# 1. Get list of players and teams ID from FotMob"
      ],
      "metadata": {
        "id": "3HHuyKqw51WN"
      }
    },
    {
      "cell_type": "code",
      "execution_count": 1,
      "metadata": {
        "colab": {
          "base_uri": "https://localhost:8080/"
        },
        "id": "KM_qdPvow_6N",
        "outputId": "66a0d47e-55e1-4779-b5d1-462b443e2423"
      },
      "outputs": [
        {
          "output_type": "stream",
          "name": "stdout",
          "text": [
            "          id  teamId                                nameAndSubstatValue  \\\n",
            "0     675088    8456               {'name': 'Rodri', 'substatValue': 5}   \n",
            "1     191869   10261     {'name': 'Kieran Trippier', 'substatValue': 3}   \n",
            "2     961995    9825         {'name': 'Bukayo Saka', 'substatValue': 2}   \n",
            "3     434325    9825       {'name': 'Thomas Partey', 'substatValue': 2}   \n",
            "4     534670    9825     {'name': 'Martin Ødegaard', 'substatValue': 6}   \n",
            "..       ...     ...                                                ...   \n",
            "280   819762    8678        {'name': 'Chris Mepham', 'substatValue': 0}   \n",
            "281   158545    8654     {'name': 'Michail Antonio', 'substatValue': 0}   \n",
            "282   706297    9826  {'name': 'Jean-Philippe Mateta', 'substatValue...   \n",
            "283  1177312    8466          {'name': 'Sékou Mara', 'substatValue': 0}   \n",
            "284    19243    8602         {'name': 'Diego Costa', 'substatValue': 0}   \n",
            "\n",
            "    statValue  rank     type statFormat substatFormat  \n",
            "0        7.90     1  players   fraction        number  \n",
            "1        7.81     2  players   fraction        number  \n",
            "2        7.79     3  players   fraction        number  \n",
            "3        7.78     4  players   fraction        number  \n",
            "4        7.72     5  players   fraction        number  \n",
            "..        ...   ...      ...        ...           ...  \n",
            "280      6.31   281  players   fraction        number  \n",
            "281      6.30   282  players   fraction        number  \n",
            "282      6.22   283  players   fraction        number  \n",
            "283      6.16   284  players   fraction        number  \n",
            "284      6.14   285  players   fraction        number  \n",
            "\n",
            "[285 rows x 8 columns]\n"
          ]
        }
      ],
      "source": [
        "import requests\n",
        "import pandas as pd\n",
        "import json\n",
        "\n",
        "# get JSON response\n",
        "url = \"https://www.fotmob.com/api/leagueseasondeepstats?id=47&season=17664&stat=rating&type=players\"\n",
        "response = requests.get(url)\n",
        "json_data = response.text\n",
        "\n",
        "# convert into JSON and get node statsData\n",
        "data_dict = json.loads(json_data)\n",
        "df_players = pd.DataFrame(data_dict['statsData'])\n",
        "\n",
        "# print the resulting DataFrame\n",
        "print(df_players)\n",
        "df_players.to_csv('fotmob-premier-league-players-list.csv', index=False)"
      ]
    },
    {
      "cell_type": "markdown",
      "source": [],
      "metadata": {
        "id": "X_kaQb7Y7fJP"
      }
    },
    {
      "cell_type": "markdown",
      "source": [
        "# 2. Download players information from player page https://www.fotmob.com/_next/data/3696/players/961995/x-x.json\n",
        "\n",
        "https://www.fotmob.com/api/playerData?id=576165\n"
      ],
      "metadata": {
        "id": "yTCONjCk6Kg4"
      }
    },
    {
      "cell_type": "code",
      "source": [
        "def get_player_data_from_fotmob(player_id):\n",
        "  url = \"https://www.fotmob.com/api/playerData?id=\" + str(player_id)\n",
        "  response = requests.get(url)\n",
        "  json_data = response.text\n",
        "\n",
        "  # convert into JSON and get node statsData\n",
        "  data_dict = json.loads(json_data)\n",
        "  _player_height = None\n",
        "  _player_preferred_foot = None\n",
        "  _player_age = None\n",
        "  _player_country = None\n",
        "  _player_shirt = None\n",
        "  _player_market_value = None\n",
        "  if 'playerProps' in data_dict:\n",
        "    for playerProp in data_dict['playerProps']:\n",
        "      if playerProp['title'] == 'Height':\n",
        "        _player_height = playerProp['value']\n",
        "      elif playerProp['title'] == 'Preferred foot':\n",
        "        _player_preferred_foot = playerProp['value']\n",
        "      elif playerProp['title'] == 'Age':\n",
        "        _player_age = playerProp['value']\n",
        "      elif playerProp['title'] == 'Country':\n",
        "        _player_country = playerProp['value']\n",
        "      elif playerProp['title'] == 'Shirt':\n",
        "        _player_shirt = playerProp['value']\n",
        "      elif playerProp['title'] == 'Market value':\n",
        "        _player_market_value = playerProp['value']\n",
        "\n",
        "  # player information\n",
        "  player_data = {\n",
        "    'player_id' : data_dict['id'],\n",
        "    'player_name' : data_dict['name'],\n",
        "    'team_id' : data_dict['origin']['teamId'],\n",
        "    'team_color' : data_dict['origin']['teamColor'],\n",
        "    'team' : data_dict['origin']['teamName'],\n",
        "    'player_position_primary' : data_dict['origin']['positionDesc']['primaryPosition'],\n",
        "    'player_position_nonprimary' : data_dict['origin']['positionDesc']['nonPrimaryPositions'],\n",
        "    'player_height' : _player_height,\n",
        "    'player_preferred_foot' : _player_preferred_foot,\n",
        "    'player_age' : _player_age,\n",
        "    'player_country' : _player_country,\n",
        "    'player_shirt' : _player_shirt,\n",
        "    'player_market_value' : _player_market_value,\n",
        "    'player_recent_matches' : data_dict['recentMatches']['All competitions'],\n",
        "  }\n",
        "\n",
        "  # player matches\n",
        "  player_matches_data = []\n",
        "  for _match in data_dict['recentMatches']['All competitions']:\n",
        "    player_matches_data.append({\n",
        "        'player_id' : player_data['player_id'],\n",
        "        'match_date' : _match['date']['utcTime'],\n",
        "        'match_id' : _match['versus']['matchId'],\n",
        "        'match_home_team' : _match['htName'],\n",
        "        'match_away_team' : _match['atName'],\n",
        "        'match_home_team_score' : _match['versus']['homeTeamScore'],\n",
        "        'match_away_team_score' : _match['versus']['awayTeamScore'],\n",
        "        'match_player_minutes_played' : _match['minutesPlayed'],\n",
        "        'match_player_goals' : _match['goals'],\n",
        "        'match_player_assists' : _match['assists'],\n",
        "        'match_player_yellow_cards' : _match['yellowCards'],\n",
        "        'match_player_red_cards' : _match['redCards'],\n",
        "        'match_player_rating' : _match['ratingProps']['num'],\n",
        "        'match_player_rating_color' : _match['ratingProps']['bgcolor'],\n",
        "    })\n",
        "    \n",
        "  # print the resulting DataFrame\n",
        "  return player_data, player_matches_data\n",
        "\n",
        "player_data, player_matches_data = get_player_data_from_fotmob(961995)\n",
        "print(player_data)"
      ],
      "metadata": {
        "colab": {
          "base_uri": "https://localhost:8080/"
        },
        "id": "TyQ2SDpq-AV8",
        "outputId": "cfd708c4-f46f-4a72-83b2-45d74e7d132f"
      },
      "execution_count": 18,
      "outputs": [
        {
          "output_type": "stream",
          "name": "stdout",
          "text": [
            "{'player_id': 961995, 'player_name': 'Bukayo Saka', 'team_id': 9825, 'team_color': '#bd0510', 'team': 'Arsenal', 'player_position_primary': 'Right Winger', 'player_position_nonprimary': 'Left Winger', 'player_height': '178 cm', 'player_preferred_foot': 'Left', 'player_age': 21, 'player_country': 'England', 'player_shirt': 7, 'player_market_value': '€105M', 'player_recent_matches': [{'htName': 'Arsenal', 'atName': 'Sporting CP', 'date': {'utcTime': '2023-03-16T21:00:00.000Z', 'timezone': None}, 'versus': {'matchId': 4128638, 'opponentName': 'Sporting CP', 'opponentId': 9768, 'homeTeamScore': 4, 'awayTeamScore': 6, 'highLightHomeTeam': True}, 'minutesPlayed': 55, 'goals': 0, 'assists': 0, 'yellowCards': 0, 'redCards': 0, 'ratingProps': {'num': '6.5', 'bgcolor': '#f08022'}}, {'htName': 'Fulham', 'atName': 'Arsenal', 'date': {'utcTime': '2023-03-12T15:00:00.000Z', 'timezone': None}, 'versus': {'matchId': 3901195, 'opponentName': 'Fulham', 'opponentId': 9879, 'homeTeamScore': 0, 'awayTeamScore': 3, 'highLightHomeTeam': False}, 'minutesPlayed': 72, 'goals': 0, 'assists': 0, 'yellowCards': 0, 'redCards': 0, 'ratingProps': {'num': '6.7', 'bgcolor': '#f08022'}}, {'htName': 'Sporting CP', 'atName': 'Arsenal', 'date': {'utcTime': '2023-03-09T18:45:00.000Z', 'timezone': None}, 'versus': {'matchId': 4128630, 'opponentName': 'Sporting CP', 'opponentId': 9768, 'homeTeamScore': 2, 'awayTeamScore': 2, 'highLightHomeTeam': False}, 'minutesPlayed': 90, 'goals': 0, 'assists': 0, 'yellowCards': 0, 'redCards': 0, 'ratingProps': {'num': '8.3', 'bgcolor': '#0e87e0'}}, {'htName': 'Arsenal', 'atName': 'AFC Bournemouth', 'date': {'utcTime': '2023-03-04T16:00:00.000Z', 'timezone': None}, 'versus': {'matchId': 3901182, 'opponentName': 'AFC Bournemouth', 'opponentId': 8678, 'homeTeamScore': 3, 'awayTeamScore': 2, 'highLightHomeTeam': True}, 'minutesPlayed': 90, 'goals': 0, 'assists': 0, 'yellowCards': 0, 'redCards': 0, 'ratingProps': {'num': '7.8', 'bgcolor': '#1ec853'}}, {'htName': 'Arsenal', 'atName': 'Everton', 'date': {'utcTime': '2023-03-01T20:45:00.000Z', 'timezone': None}, 'versus': {'matchId': 3900992, 'opponentName': 'Everton', 'opponentId': 8668, 'homeTeamScore': 4, 'awayTeamScore': 0, 'highLightHomeTeam': True}, 'minutesPlayed': 82, 'goals': 1, 'assists': 1, 'yellowCards': 0, 'redCards': 0, 'ratingProps': {'num': '8.4', 'bgcolor': '#1ec853'}}, {'htName': 'Leicester City', 'atName': 'Arsenal', 'date': {'utcTime': '2023-02-25T16:00:00.000Z', 'timezone': None}, 'versus': {'matchId': 3901177, 'opponentName': 'Leicester City', 'opponentId': 8197, 'homeTeamScore': 0, 'awayTeamScore': 1, 'highLightHomeTeam': False}, 'minutesPlayed': 90, 'goals': 0, 'assists': 0, 'yellowCards': 0, 'redCards': 0, 'ratingProps': {'num': '7.3', 'bgcolor': '#1ec853'}}, {'htName': 'Aston Villa', 'atName': 'Arsenal', 'date': {'utcTime': '2023-02-18T13:30:00.000Z', 'timezone': None}, 'versus': {'matchId': 3901162, 'opponentName': 'Aston Villa', 'opponentId': 10252, 'homeTeamScore': 2, 'awayTeamScore': 4, 'highLightHomeTeam': False}, 'minutesPlayed': 90, 'goals': 1, 'assists': 0, 'yellowCards': 1, 'redCards': 0, 'ratingProps': {'num': '8.3', 'bgcolor': '#1ec853'}}, {'htName': 'Arsenal', 'atName': 'Manchester City', 'date': {'utcTime': '2023-02-15T20:30:00.000Z', 'timezone': None}, 'versus': {'matchId': 3901042, 'opponentName': 'Manchester City', 'opponentId': 8456, 'homeTeamScore': 1, 'awayTeamScore': 3, 'highLightHomeTeam': True}, 'minutesPlayed': 90, 'goals': 1, 'assists': 0, 'yellowCards': 0, 'redCards': 0, 'ratingProps': {'num': '7.8', 'bgcolor': '#1ec853'}}, {'htName': 'Arsenal', 'atName': 'Brentford', 'date': {'utcTime': '2023-02-11T16:00:00.000Z', 'timezone': None}, 'versus': {'matchId': 3901152, 'opponentName': 'Brentford', 'opponentId': 9937, 'homeTeamScore': 1, 'awayTeamScore': 1, 'highLightHomeTeam': True}, 'minutesPlayed': 90, 'goals': 0, 'assists': 1, 'yellowCards': 0, 'redCards': 0, 'ratingProps': {'num': '8.2', 'bgcolor': '#1ec853'}}, {'htName': 'Everton', 'atName': 'Arsenal', 'date': {'utcTime': '2023-02-04T13:30:00.000Z', 'timezone': None}, 'versus': {'matchId': 3901146, 'opponentName': 'Everton', 'opponentId': 8668, 'homeTeamScore': 1, 'awayTeamScore': 0, 'highLightHomeTeam': False}, 'minutesPlayed': 90, 'goals': 0, 'assists': 0, 'yellowCards': 0, 'redCards': 0, 'ratingProps': {'num': '7.8', 'bgcolor': '#1ec853'}}, {'htName': 'Manchester City', 'atName': 'Arsenal', 'date': {'utcTime': '2023-01-27T21:00:00.000Z', 'timezone': None}, 'versus': {'matchId': 4094722, 'opponentName': 'Manchester City', 'opponentId': 8456, 'homeTeamScore': 1, 'awayTeamScore': 0, 'highLightHomeTeam': False}, 'minutesPlayed': 74, 'goals': 0, 'assists': 0, 'yellowCards': 0, 'redCards': 0, 'ratingProps': {'num': '5.4', 'bgcolor': '#f08022'}}, {'htName': 'Arsenal', 'atName': 'Manchester United', 'date': {'utcTime': '2023-01-22T17:30:00.000Z', 'timezone': None}, 'versus': {'matchId': 3901132, 'opponentName': 'Manchester United', 'opponentId': 10260, 'homeTeamScore': 3, 'awayTeamScore': 2, 'highLightHomeTeam': True}, 'minutesPlayed': 90, 'goals': 1, 'assists': 0, 'yellowCards': 0, 'redCards': 0, 'ratingProps': {'num': '8.6', 'bgcolor': '#1ec853'}}, {'htName': 'Tottenham Hotspur', 'atName': 'Arsenal', 'date': {'utcTime': '2023-01-15T17:30:00.000Z', 'timezone': None}, 'versus': {'matchId': 3901130, 'opponentName': 'Tottenham Hotspur', 'opponentId': 8586, 'homeTeamScore': 0, 'awayTeamScore': 2, 'highLightHomeTeam': False}, 'minutesPlayed': 90, 'goals': 0, 'assists': 1, 'yellowCards': 0, 'redCards': 0, 'ratingProps': {'num': '7.6', 'bgcolor': '#1ec853'}}, {'htName': 'Oxford United', 'atName': 'Arsenal', 'date': {'utcTime': '2023-01-09T21:00:00.000Z', 'timezone': None}, 'versus': {'matchId': 4072394, 'opponentName': 'Oxford United', 'opponentId': 8653, 'homeTeamScore': 0, 'awayTeamScore': 3, 'highLightHomeTeam': False}, 'minutesPlayed': 75, 'goals': 0, 'assists': 0, 'yellowCards': 0, 'redCards': 0, 'ratingProps': {'num': '6.7', 'bgcolor': '#f08022'}}, {'htName': 'Arsenal', 'atName': 'Newcastle United', 'date': {'utcTime': '2023-01-03T20:45:00.000Z', 'timezone': None}, 'versus': {'matchId': 3901112, 'opponentName': 'Newcastle United', 'opponentId': 10261, 'homeTeamScore': 0, 'awayTeamScore': 0, 'highLightHomeTeam': True}, 'minutesPlayed': 90, 'goals': 0, 'assists': 0, 'yellowCards': 0, 'redCards': 0, 'ratingProps': {'num': '6.7', 'bgcolor': '#f08022'}}]}\n"
          ]
        }
      ]
    },
    {
      "cell_type": "code",
      "source": [
        "data_players = []\n",
        "data_player_matches = []\n",
        "for index, row in df_players.iterrows():\n",
        "  player_data, player_matches_data = get_player_data_from_fotmob(row['id'])\n",
        "  data_players.append(player_data)\n",
        "  data_player_matches += player_matches_data"
      ],
      "metadata": {
        "id": "np7rubuB7exl"
      },
      "execution_count": 41,
      "outputs": []
    },
    {
      "cell_type": "code",
      "source": [
        "# print the resulting DataFrame\n",
        "df_data_players = pd.DataFrame(data_players)\n",
        "if 'player_recent_matches' in df_data_players:\n",
        "  df_data_players = df_data_players.drop(columns=['player_recent_matches'])\n",
        "df_data_players.to_csv('fotmob-premier-league-players.csv', index=False)\n",
        "\n",
        "# print the resulting DataFrame\n",
        "df_data_player_matches = pd.DataFrame(data_player_matches)\n",
        "df_data_player_matches.to_csv('fotmob-premier-league-players-matches.csv', index=False)"
      ],
      "metadata": {
        "id": "1Le8rNBkjazQ"
      },
      "execution_count": 42,
      "outputs": []
    },
    {
      "cell_type": "markdown",
      "source": [
        "\n",
        "\n",
        "> Bloc en retrait\n",
        "\n"
      ],
      "metadata": {
        "id": "V581FQxmxGKT"
      }
    }
  ]
}