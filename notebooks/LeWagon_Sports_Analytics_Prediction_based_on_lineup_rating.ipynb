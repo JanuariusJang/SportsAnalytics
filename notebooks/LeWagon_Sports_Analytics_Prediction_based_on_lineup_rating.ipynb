{
  "nbformat": 4,
  "nbformat_minor": 0,
  "metadata": {
    "colab": {
      "provenance": []
    },
    "kernelspec": {
      "name": "python3",
      "display_name": "Python 3"
    },
    "language_info": {
      "name": "python"
    }
  },
  "cells": [
    {
      "cell_type": "markdown",
      "source": [
        "\n",
        "\n",
        "Import packages\n"
      ],
      "metadata": {
        "id": "X7Rz8VuAFJf2"
      }
    },
    {
      "cell_type": "code",
      "execution_count": 19,
      "metadata": {
        "id": "X2OMaJsgE9BM"
      },
      "outputs": [],
      "source": [
        "import requests\n",
        "import pandas as pd\n",
        "import json\n",
        "import math"
      ]
    },
    {
      "cell_type": "markdown",
      "source": [
        "Load datasets - matches + all players ratings by match\n"
      ],
      "metadata": {
        "id": "-ZjWudwEFQ2d"
      }
    },
    {
      "cell_type": "code",
      "source": [
        "df_matches = pd.read_csv('fotmob-premier-league-matches-results.csv')\n",
        "df_matches_players_stats = pd.read_csv('fotmob-premier-league-matches-players-stats.csv')"
      ],
      "metadata": {
        "id": "Lc6jGX2NMGh5"
      },
      "execution_count": 41,
      "outputs": []
    },
    {
      "cell_type": "code",
      "source": [
        "df_matches_players_unique = df_matches_players_stats['player_id'].unique()\n",
        "len(df_matches_players_unique)"
      ],
      "metadata": {
        "colab": {
          "base_uri": "https://localhost:8080/"
        },
        "id": "rqYGxV2OMKJM",
        "outputId": "22fc17fa-5d2b-43d9-9690-9e92bc275212"
      },
      "execution_count": 42,
      "outputs": [
        {
          "output_type": "execute_result",
          "data": {
            "text/plain": [
              "990"
            ]
          },
          "metadata": {},
          "execution_count": 42
        }
      ]
    },
    {
      "cell_type": "code",
      "source": [
        "# create list of all players with their id \n",
        "dict_players = {}\n",
        "for _player_id in df_matches_players_unique:\n",
        "  if math.isnan(_player_id) == False:\n",
        "    dict_players['home_player_' + str(round(_player_id))] = 0\n",
        "    dict_players['away_player_' + str(round(_player_id))] = 0\n",
        "len(dict_players)"
      ],
      "metadata": {
        "colab": {
          "base_uri": "https://localhost:8080/"
        },
        "id": "jJ5K-7c0MW43",
        "outputId": "3c3d7c88-cb7c-479b-fd8d-44febccfa03f"
      },
      "execution_count": 43,
      "outputs": [
        {
          "output_type": "execute_result",
          "data": {
            "text/plain": [
              "1980"
            ]
          },
          "metadata": {},
          "execution_count": 43
        }
      ]
    },
    {
      "cell_type": "code",
      "source": [
        "\n",
        "\n",
        "data_match_lineup_rating = []\n",
        "for i, _match in df_matches.T.iteritems():\n",
        "  if _match['match_started'] == True and _match['match_finished'] == True:\n",
        "\n",
        "    # classify Win Loose Draw\n",
        "    _match['match_home_result'] = 'D'\n",
        "    _match['match_away_result'] = 'D'\n",
        "    if _match['match_home_team_score'] > _match['match_away_team_score']:\n",
        "      _match['match_home_result'] = 'W'\n",
        "      _match['match_away_result'] = 'L'\n",
        "    else:\n",
        "      _match['match_home_result'] = 'L'\n",
        "      _match['match_away_result'] = 'W'\n",
        "\n",
        "    # get players played during matches\n",
        "    _players = df_matches_players_stats[df_matches_players_stats['match_id'] == _match['match_id']]\n",
        "    _players_line_up = dict_players.copy()\n",
        "    for i_player, _player in _players.T.iteritems():\n",
        "      if _player['player_team_id'] == _match['match_home_team_id']:\n",
        "        _players_line_up['home_player_' + str(round(_player['player_id']))] = _player['player_rating']\n",
        "      elif _player['player_team_id'] == _match['match_away_team_id']:\n",
        "        _players_line_up['away_player_' + str(round(_player['player_id']))] = _player['player_rating']\n",
        "\n",
        "    # build new row\n",
        "    _m = {\n",
        "      'match_id' : _match['match_id'],\n",
        "      'match_utc' : _match['match_time_utc_date'],\n",
        "      'home_team_id' : _match['match_home_team_id'],\n",
        "      'home_team_name' : _match['match_home_team_name'],\n",
        "      'home_team_score' : _match['match_home_team_score'],\n",
        "      'home_team_result' : _match['match_home_result'],\n",
        "      'away_team_id' : _match['match_away_team_id'],\n",
        "      'away_team_name' : _match['match_away_team_name'],\n",
        "      'away_team_score' : _match['match_away_team_score'],\n",
        "      'away_team_result' : _match['match_away_result'],\n",
        "    }\n",
        "\n",
        "    # add players lineup at each row\n",
        "    _m.update(_players_line_up)\n",
        "    data_match_lineup_rating.append(_m)\n",
        "\n",
        "df_match_lineup_rating = pd.DataFrame(data_match_lineup_rating)\n",
        "df_match_lineup_rating.to_csv('fotmob-premier-league-matches-lineup.csv', index=False, sep=';')"
      ],
      "metadata": {
        "id": "YPwy8It7FVLg"
      },
      "execution_count": 75,
      "outputs": []
    },
    {
      "cell_type": "markdown",
      "source": [
        "Build model classification :"
      ],
      "metadata": {
        "id": "tI_G_KAoFVtZ"
      }
    },
    {
      "cell_type": "code",
      "source": [
        "df_match_lineup_rating.head()"
      ],
      "metadata": {
        "colab": {
          "base_uri": "https://localhost:8080/",
          "height": 386
        },
        "id": "iWdGXZjpawpJ",
        "outputId": "1da64523-1664-46e4-af11-a83a9838fa06"
      },
      "execution_count": 77,
      "outputs": [
        {
          "output_type": "execute_result",
          "data": {
            "text/plain": [
              "   match_id                 match_utc  home_team_id    home_team_name  \\\n",
              "0   3900932  2022-08-05T19:00:00.000Z          9826    Crystal Palace   \n",
              "1   3900933  2022-08-06T11:30:00.000Z          9879            Fulham   \n",
              "2   3900934  2022-08-06T14:00:00.000Z          8678   AFC Bournemouth   \n",
              "3   3900935  2022-08-06T14:00:00.000Z          8463      Leeds United   \n",
              "4   3900937  2022-08-06T14:00:00.000Z         10261  Newcastle United   \n",
              "\n",
              "   home_team_score home_team_result  away_team_id           away_team_name  \\\n",
              "0                0                L          9825                  Arsenal   \n",
              "1                2                L          8650                Liverpool   \n",
              "2                2                W         10252              Aston Villa   \n",
              "3                2                W          8602  Wolverhampton Wanderers   \n",
              "4                2                W         10203        Nottingham Forest   \n",
              "\n",
              "   away_team_score away_team_result  ...  home_player_131991  \\\n",
              "0                2                W  ...                 0.0   \n",
              "1                2                W  ...                 0.0   \n",
              "2                0                L  ...                 0.0   \n",
              "3                1                L  ...                 0.0   \n",
              "4                0                L  ...                 0.0   \n",
              "\n",
              "   away_player_131991  home_player_660321  away_player_660321  \\\n",
              "0                   0                 0.0                 0.0   \n",
              "1                   0                 0.0                 0.0   \n",
              "2                   0                 0.0                 0.0   \n",
              "3                   0                 0.0                 0.0   \n",
              "4                   0                 0.0                 0.0   \n",
              "\n",
              "   home_player_719219  away_player_719219  home_player_244811  \\\n",
              "0                 0.0                 0.0                   0   \n",
              "1                 0.0                 0.0                   0   \n",
              "2                 0.0                 0.0                   0   \n",
              "3                 0.0                 0.0                   0   \n",
              "4                 0.0                 0.0                   0   \n",
              "\n",
              "   away_player_244811  home_player_478367  away_player_478367  \n",
              "0                 0.0                   0                 0.0  \n",
              "1                 0.0                   0                 0.0  \n",
              "2                 0.0                   0                 0.0  \n",
              "3                 0.0                   0                 0.0  \n",
              "4                 0.0                   0                 0.0  \n",
              "\n",
              "[5 rows x 1990 columns]"
            ],
            "text/html": [
              "\n",
              "  <div id=\"df-270d90a4-43eb-48ba-9aca-59d79a4a2cc9\">\n",
              "    <div class=\"colab-df-container\">\n",
              "      <div>\n",
              "<style scoped>\n",
              "    .dataframe tbody tr th:only-of-type {\n",
              "        vertical-align: middle;\n",
              "    }\n",
              "\n",
              "    .dataframe tbody tr th {\n",
              "        vertical-align: top;\n",
              "    }\n",
              "\n",
              "    .dataframe thead th {\n",
              "        text-align: right;\n",
              "    }\n",
              "</style>\n",
              "<table border=\"1\" class=\"dataframe\">\n",
              "  <thead>\n",
              "    <tr style=\"text-align: right;\">\n",
              "      <th></th>\n",
              "      <th>match_id</th>\n",
              "      <th>match_utc</th>\n",
              "      <th>home_team_id</th>\n",
              "      <th>home_team_name</th>\n",
              "      <th>home_team_score</th>\n",
              "      <th>home_team_result</th>\n",
              "      <th>away_team_id</th>\n",
              "      <th>away_team_name</th>\n",
              "      <th>away_team_score</th>\n",
              "      <th>away_team_result</th>\n",
              "      <th>...</th>\n",
              "      <th>home_player_131991</th>\n",
              "      <th>away_player_131991</th>\n",
              "      <th>home_player_660321</th>\n",
              "      <th>away_player_660321</th>\n",
              "      <th>home_player_719219</th>\n",
              "      <th>away_player_719219</th>\n",
              "      <th>home_player_244811</th>\n",
              "      <th>away_player_244811</th>\n",
              "      <th>home_player_478367</th>\n",
              "      <th>away_player_478367</th>\n",
              "    </tr>\n",
              "  </thead>\n",
              "  <tbody>\n",
              "    <tr>\n",
              "      <th>0</th>\n",
              "      <td>3900932</td>\n",
              "      <td>2022-08-05T19:00:00.000Z</td>\n",
              "      <td>9826</td>\n",
              "      <td>Crystal Palace</td>\n",
              "      <td>0</td>\n",
              "      <td>L</td>\n",
              "      <td>9825</td>\n",
              "      <td>Arsenal</td>\n",
              "      <td>2</td>\n",
              "      <td>W</td>\n",
              "      <td>...</td>\n",
              "      <td>0.0</td>\n",
              "      <td>0</td>\n",
              "      <td>0.0</td>\n",
              "      <td>0.0</td>\n",
              "      <td>0.0</td>\n",
              "      <td>0.0</td>\n",
              "      <td>0</td>\n",
              "      <td>0.0</td>\n",
              "      <td>0</td>\n",
              "      <td>0.0</td>\n",
              "    </tr>\n",
              "    <tr>\n",
              "      <th>1</th>\n",
              "      <td>3900933</td>\n",
              "      <td>2022-08-06T11:30:00.000Z</td>\n",
              "      <td>9879</td>\n",
              "      <td>Fulham</td>\n",
              "      <td>2</td>\n",
              "      <td>L</td>\n",
              "      <td>8650</td>\n",
              "      <td>Liverpool</td>\n",
              "      <td>2</td>\n",
              "      <td>W</td>\n",
              "      <td>...</td>\n",
              "      <td>0.0</td>\n",
              "      <td>0</td>\n",
              "      <td>0.0</td>\n",
              "      <td>0.0</td>\n",
              "      <td>0.0</td>\n",
              "      <td>0.0</td>\n",
              "      <td>0</td>\n",
              "      <td>0.0</td>\n",
              "      <td>0</td>\n",
              "      <td>0.0</td>\n",
              "    </tr>\n",
              "    <tr>\n",
              "      <th>2</th>\n",
              "      <td>3900934</td>\n",
              "      <td>2022-08-06T14:00:00.000Z</td>\n",
              "      <td>8678</td>\n",
              "      <td>AFC Bournemouth</td>\n",
              "      <td>2</td>\n",
              "      <td>W</td>\n",
              "      <td>10252</td>\n",
              "      <td>Aston Villa</td>\n",
              "      <td>0</td>\n",
              "      <td>L</td>\n",
              "      <td>...</td>\n",
              "      <td>0.0</td>\n",
              "      <td>0</td>\n",
              "      <td>0.0</td>\n",
              "      <td>0.0</td>\n",
              "      <td>0.0</td>\n",
              "      <td>0.0</td>\n",
              "      <td>0</td>\n",
              "      <td>0.0</td>\n",
              "      <td>0</td>\n",
              "      <td>0.0</td>\n",
              "    </tr>\n",
              "    <tr>\n",
              "      <th>3</th>\n",
              "      <td>3900935</td>\n",
              "      <td>2022-08-06T14:00:00.000Z</td>\n",
              "      <td>8463</td>\n",
              "      <td>Leeds United</td>\n",
              "      <td>2</td>\n",
              "      <td>W</td>\n",
              "      <td>8602</td>\n",
              "      <td>Wolverhampton Wanderers</td>\n",
              "      <td>1</td>\n",
              "      <td>L</td>\n",
              "      <td>...</td>\n",
              "      <td>0.0</td>\n",
              "      <td>0</td>\n",
              "      <td>0.0</td>\n",
              "      <td>0.0</td>\n",
              "      <td>0.0</td>\n",
              "      <td>0.0</td>\n",
              "      <td>0</td>\n",
              "      <td>0.0</td>\n",
              "      <td>0</td>\n",
              "      <td>0.0</td>\n",
              "    </tr>\n",
              "    <tr>\n",
              "      <th>4</th>\n",
              "      <td>3900937</td>\n",
              "      <td>2022-08-06T14:00:00.000Z</td>\n",
              "      <td>10261</td>\n",
              "      <td>Newcastle United</td>\n",
              "      <td>2</td>\n",
              "      <td>W</td>\n",
              "      <td>10203</td>\n",
              "      <td>Nottingham Forest</td>\n",
              "      <td>0</td>\n",
              "      <td>L</td>\n",
              "      <td>...</td>\n",
              "      <td>0.0</td>\n",
              "      <td>0</td>\n",
              "      <td>0.0</td>\n",
              "      <td>0.0</td>\n",
              "      <td>0.0</td>\n",
              "      <td>0.0</td>\n",
              "      <td>0</td>\n",
              "      <td>0.0</td>\n",
              "      <td>0</td>\n",
              "      <td>0.0</td>\n",
              "    </tr>\n",
              "  </tbody>\n",
              "</table>\n",
              "<p>5 rows × 1990 columns</p>\n",
              "</div>\n",
              "      <button class=\"colab-df-convert\" onclick=\"convertToInteractive('df-270d90a4-43eb-48ba-9aca-59d79a4a2cc9')\"\n",
              "              title=\"Convert this dataframe to an interactive table.\"\n",
              "              style=\"display:none;\">\n",
              "        \n",
              "  <svg xmlns=\"http://www.w3.org/2000/svg\" height=\"24px\"viewBox=\"0 0 24 24\"\n",
              "       width=\"24px\">\n",
              "    <path d=\"M0 0h24v24H0V0z\" fill=\"none\"/>\n",
              "    <path d=\"M18.56 5.44l.94 2.06.94-2.06 2.06-.94-2.06-.94-.94-2.06-.94 2.06-2.06.94zm-11 1L8.5 8.5l.94-2.06 2.06-.94-2.06-.94L8.5 2.5l-.94 2.06-2.06.94zm10 10l.94 2.06.94-2.06 2.06-.94-2.06-.94-.94-2.06-.94 2.06-2.06.94z\"/><path d=\"M17.41 7.96l-1.37-1.37c-.4-.4-.92-.59-1.43-.59-.52 0-1.04.2-1.43.59L10.3 9.45l-7.72 7.72c-.78.78-.78 2.05 0 2.83L4 21.41c.39.39.9.59 1.41.59.51 0 1.02-.2 1.41-.59l7.78-7.78 2.81-2.81c.8-.78.8-2.07 0-2.86zM5.41 20L4 18.59l7.72-7.72 1.47 1.35L5.41 20z\"/>\n",
              "  </svg>\n",
              "      </button>\n",
              "      \n",
              "  <style>\n",
              "    .colab-df-container {\n",
              "      display:flex;\n",
              "      flex-wrap:wrap;\n",
              "      gap: 12px;\n",
              "    }\n",
              "\n",
              "    .colab-df-convert {\n",
              "      background-color: #E8F0FE;\n",
              "      border: none;\n",
              "      border-radius: 50%;\n",
              "      cursor: pointer;\n",
              "      display: none;\n",
              "      fill: #1967D2;\n",
              "      height: 32px;\n",
              "      padding: 0 0 0 0;\n",
              "      width: 32px;\n",
              "    }\n",
              "\n",
              "    .colab-df-convert:hover {\n",
              "      background-color: #E2EBFA;\n",
              "      box-shadow: 0px 1px 2px rgba(60, 64, 67, 0.3), 0px 1px 3px 1px rgba(60, 64, 67, 0.15);\n",
              "      fill: #174EA6;\n",
              "    }\n",
              "\n",
              "    [theme=dark] .colab-df-convert {\n",
              "      background-color: #3B4455;\n",
              "      fill: #D2E3FC;\n",
              "    }\n",
              "\n",
              "    [theme=dark] .colab-df-convert:hover {\n",
              "      background-color: #434B5C;\n",
              "      box-shadow: 0px 1px 3px 1px rgba(0, 0, 0, 0.15);\n",
              "      filter: drop-shadow(0px 1px 2px rgba(0, 0, 0, 0.3));\n",
              "      fill: #FFFFFF;\n",
              "    }\n",
              "  </style>\n",
              "\n",
              "      <script>\n",
              "        const buttonEl =\n",
              "          document.querySelector('#df-270d90a4-43eb-48ba-9aca-59d79a4a2cc9 button.colab-df-convert');\n",
              "        buttonEl.style.display =\n",
              "          google.colab.kernel.accessAllowed ? 'block' : 'none';\n",
              "\n",
              "        async function convertToInteractive(key) {\n",
              "          const element = document.querySelector('#df-270d90a4-43eb-48ba-9aca-59d79a4a2cc9');\n",
              "          const dataTable =\n",
              "            await google.colab.kernel.invokeFunction('convertToInteractive',\n",
              "                                                     [key], {});\n",
              "          if (!dataTable) return;\n",
              "\n",
              "          const docLinkHtml = 'Like what you see? Visit the ' +\n",
              "            '<a target=\"_blank\" href=https://colab.research.google.com/notebooks/data_table.ipynb>data table notebook</a>'\n",
              "            + ' to learn more about interactive tables.';\n",
              "          element.innerHTML = '';\n",
              "          dataTable['output_type'] = 'display_data';\n",
              "          await google.colab.output.renderOutput(dataTable, element);\n",
              "          const docLink = document.createElement('div');\n",
              "          docLink.innerHTML = docLinkHtml;\n",
              "          element.appendChild(docLink);\n",
              "        }\n",
              "      </script>\n",
              "    </div>\n",
              "  </div>\n",
              "  "
            ]
          },
          "metadata": {},
          "execution_count": 77
        }
      ]
    },
    {
      "cell_type": "markdown",
      "source": [
        "Encoding"
      ],
      "metadata": {
        "id": "qfHz4WNdlyMV"
      }
    },
    {
      "cell_type": "code",
      "source": [
        "from sklearn.preprocessing import OrdinalEncoder\n",
        "ordinal_encoder = OrdinalEncoder(categories = [[\"L\",\"D\",\"W\"]])\n",
        "ordinal_encoder.fit(df_match_lineup_rating[[\"home_team_result\"]])\n",
        "df_match_lineup_rating[\"home_team_result_encoded\"] = ordinal_encoder.transform(df_match_lineup_rating[[\"home_team_result\"]])\n"
      ],
      "metadata": {
        "id": "oEwNAQqhXyGY"
      },
      "execution_count": 80,
      "outputs": []
    },
    {
      "cell_type": "code",
      "source": [
        "\n"
      ],
      "metadata": {
        "colab": {
          "base_uri": "https://localhost:8080/"
        },
        "id": "5VL4e5SIbj9d",
        "outputId": "f30512e1-480c-4680-d8ef-4978656467e7"
      },
      "execution_count": 88,
      "outputs": [
        {
          "output_type": "stream",
          "name": "stdout",
          "text": [
            "1790\n",
            "1766\n"
          ]
        }
      ]
    },
    {
      "cell_type": "markdown",
      "source": [
        "Stochastic Gradient Descent SGD\n",
        "\n"
      ],
      "metadata": {
        "id": "BRWk-pQcfz1o"
      }
    },
    {
      "cell_type": "code",
      "source": [
        "from sklearn.model_selection import train_test_split\n",
        "from sklearn.metrics import accuracy_score\n",
        "from sklearn.linear_model import SGDClassifier\n",
        "\n",
        "# X, Y and split\n",
        "df_match_lineup_rating = df_match_lineup_rating.dropna()\n",
        "X = df_match_lineup_rating.drop(['home_team_result_encoded', 'match_id', 'match_utc', 'home_team_name', 'home_team_score', 'home_team_result', 'away_team_name', 'away_team_score', 'away_team_result'], axis=1)\n",
        "y = df_match_lineup_rating['home_team_result_encoded']\n",
        "X_train, X_test, y_train, y_test = train_test_split(X, y, test_size=0.3)\n",
        "\n",
        "# Model\n",
        "clf_SGD = SGDClassifier(loss='hinge', penalty='l2', alpha=0.0001, max_iter=1000, tol=1e-3)\n",
        "clf_SGD.fit(X_train, y_train)\n",
        "\n",
        "# predict and accuracy\n",
        "y_pred_SGD = clf_SGD.predict(X_test)\n",
        "acc_SGD = accuracy_score(y_test, y_pred_SGD)\n",
        "print(\"Accuracy: \", acc_SGD)"
      ],
      "metadata": {
        "colab": {
          "base_uri": "https://localhost:8080/"
        },
        "id": "SDN6Gpk0efzd",
        "outputId": "d8964d83-d096-459e-be15-c32d6b778b7d"
      },
      "execution_count": 162,
      "outputs": [
        {
          "output_type": "stream",
          "name": "stdout",
          "text": [
            "Accuracy:  0.5150943396226415\n"
          ]
        }
      ]
    },
    {
      "cell_type": "markdown",
      "source": [
        "LinearSVC"
      ],
      "metadata": {
        "id": "DOGx7vTUf8Sr"
      }
    },
    {
      "cell_type": "code",
      "source": [
        "from sklearn.model_selection import train_test_split\n",
        "from sklearn.metrics import accuracy_score\n",
        "from sklearn.svm import LinearSVC\n",
        "\n",
        "# X, Y and split\n",
        "df_match_lineup_rating = df_match_lineup_rating.dropna()\n",
        "X = df_match_lineup_rating.drop(['home_team_result_encoded', 'match_id', 'match_utc', 'home_team_name', 'home_team_score', 'home_team_result', 'away_team_name', 'away_team_score', 'away_team_result'], axis=1)\n",
        "y = df_match_lineup_rating['home_team_result_encoded']\n",
        "X_train, X_test, y_train, y_test = train_test_split(X, y, test_size=0.3)\n",
        "\n",
        "# model\n",
        "clf_SVC = LinearSVC(max_iter=20000)\n",
        "clf_SVC.fit(X_train, y_train)\n",
        "\n",
        "# predict and accuracy\n",
        "y_pred_SVC = clf_SVC.predict(X_test)\n",
        "acc_SVC = accuracy_score(y_test, y_pred_SVC)\n",
        "print(\"Accuracy: \", acc_SVC)"
      ],
      "metadata": {
        "colab": {
          "base_uri": "https://localhost:8080/"
        },
        "id": "ojTNy-GXf-A7",
        "outputId": "fb42b4e4-d9e5-4c7c-b712-554fa73e275a"
      },
      "execution_count": 163,
      "outputs": [
        {
          "output_type": "stream",
          "name": "stdout",
          "text": [
            "Accuracy:  0.46226415094339623\n"
          ]
        },
        {
          "output_type": "stream",
          "name": "stderr",
          "text": [
            "/usr/local/lib/python3.9/dist-packages/sklearn/svm/_base.py:1244: ConvergenceWarning: Liblinear failed to converge, increase the number of iterations.\n",
            "  warnings.warn(\n"
          ]
        }
      ]
    },
    {
      "cell_type": "markdown",
      "source": [
        "Logistic Regression"
      ],
      "metadata": {
        "id": "ohoCzyDmmuq6"
      }
    },
    {
      "cell_type": "code",
      "source": [
        "from sklearn.linear_model import LogisticRegression\n",
        "from sklearn.metrics import accuracy_score\n",
        "\n",
        "# X, Y and split\n",
        "df_match_lineup_rating = df_match_lineup_rating.dropna()\n",
        "X = df_match_lineup_rating.drop(['home_team_result_encoded', 'match_id', 'match_utc', 'home_team_name', 'home_team_score', 'home_team_result', 'away_team_name', 'away_team_score', 'away_team_result'], axis=1)\n",
        "y = df_match_lineup_rating['home_team_result_encoded']\n",
        "X_train, X_test, y_train, y_test = train_test_split(X, y, test_size=0.3)\n",
        "\n",
        "# model\n",
        "log_reg = LogisticRegression(solver='lbfgs',max_iter=10000)\n",
        "log_reg.fit(X_train, y_train)\n",
        "\n",
        "# predict and accuracy\n",
        "y_pred = log_reg.predict(X_test)\n",
        "accuracy = accuracy_score(y_test, y_pred)\n",
        "\n",
        "print(\"Accuracy:\", accuracy)"
      ],
      "metadata": {
        "colab": {
          "base_uri": "https://localhost:8080/"
        },
        "id": "tP6XhdqNmuPA",
        "outputId": "a69399aa-d202-41e8-e8aa-b2c6adb8d38d"
      },
      "execution_count": 164,
      "outputs": [
        {
          "output_type": "stream",
          "name": "stdout",
          "text": [
            "Accuracy: 0.6962264150943396\n"
          ]
        }
      ]
    },
    {
      "cell_type": "markdown",
      "source": [
        "Naives Bayes"
      ],
      "metadata": {
        "id": "3qp8lx_jnQcZ"
      }
    },
    {
      "cell_type": "code",
      "source": [
        "from sklearn.naive_bayes import GaussianNB\n",
        "from sklearn.metrics import accuracy_score\n",
        "\n",
        "# X, Y and split\n",
        "df_match_lineup_rating = df_match_lineup_rating.dropna()\n",
        "X = df_match_lineup_rating.drop(['home_team_result_encoded', 'match_id', 'match_utc', 'home_team_name', 'home_team_score', 'home_team_result', 'away_team_name', 'away_team_score', 'away_team_result'], axis=1)\n",
        "y = df_match_lineup_rating['home_team_result_encoded']\n",
        "X_train, X_test, y_train, y_test = train_test_split(X, y, test_size=0.3)\n",
        "\n",
        "# model\n",
        "clf_nb = GaussianNB()\n",
        "clf_nb.fit(X_train, y_train)\n",
        "\n",
        "# predict and accuracy\n",
        "y_pred = clf_nb.predict(X_test)\n",
        "accuracy = accuracy_score(y_test, y_pred)\n",
        "print(\"Accuracy:\", accuracy)"
      ],
      "metadata": {
        "colab": {
          "base_uri": "https://localhost:8080/"
        },
        "id": "JDqsm-lJmw-S",
        "outputId": "88bb3e5a-1256-40c7-9d3f-dc892a52b79e"
      },
      "execution_count": 165,
      "outputs": [
        {
          "output_type": "stream",
          "name": "stdout",
          "text": [
            "Accuracy: 0.6226415094339622\n"
          ]
        }
      ]
    },
    {
      "cell_type": "markdown",
      "source": [
        "K-Nearest Neighbours"
      ],
      "metadata": {
        "id": "F7G7k7Nxnaoe"
      }
    },
    {
      "cell_type": "code",
      "source": [
        "from sklearn.neighbors import KNeighborsClassifier\n",
        "from sklearn.metrics import accuracy_score\n",
        "\n",
        "# X, Y and split\n",
        "df_match_lineup_rating = df_match_lineup_rating.dropna()\n",
        "X = df_match_lineup_rating.drop(['home_team_result_encoded', 'match_id', 'match_utc', 'home_team_name', 'home_team_score', 'home_team_result', 'away_team_name', 'away_team_score', 'away_team_result'], axis=1)\n",
        "y = df_match_lineup_rating['home_team_result_encoded']\n",
        "X_train, X_test, y_train, y_test = train_test_split(X, y, test_size=0.3)\n",
        "\n",
        "# model\n",
        "clf_knn = KNeighborsClassifier(n_neighbors=3)\n",
        "clf_knn.fit(X_train, y_train)\n",
        "\n",
        "# predict and accuracy\n",
        "y_pred = clf_knn.predict(X_test)\n",
        "accuracy = accuracy_score(y_test, y_pred)\n",
        "print(\"Accuracy:\", accuracy)"
      ],
      "metadata": {
        "colab": {
          "base_uri": "https://localhost:8080/"
        },
        "id": "KOScM_wwndLY",
        "outputId": "57bd8a13-71be-4fa6-fae8-cf0490422b3a"
      },
      "execution_count": 166,
      "outputs": [
        {
          "output_type": "stream",
          "name": "stdout",
          "text": [
            "Accuracy: 0.5735849056603773\n"
          ]
        }
      ]
    },
    {
      "cell_type": "markdown",
      "source": [
        "Decision Tree"
      ],
      "metadata": {
        "id": "qRmZodqvnd4j"
      }
    },
    {
      "cell_type": "code",
      "source": [
        "from sklearn.tree import DecisionTreeClassifier\n",
        "from sklearn.metrics import accuracy_score\n",
        "\n",
        "# X, Y and split\n",
        "df_match_lineup_rating = df_match_lineup_rating.dropna()\n",
        "X = df_match_lineup_rating.drop(['home_team_result_encoded', 'match_id', 'match_utc', 'home_team_name', 'home_team_score', 'home_team_result', 'away_team_name', 'away_team_score', 'away_team_result'], axis=1)\n",
        "y = df_match_lineup_rating['home_team_result_encoded']\n",
        "X_train, X_test, y_train, y_test = train_test_split(X, y, test_size=0.3)\n",
        "\n",
        "# model\n",
        "clf_dt = DecisionTreeClassifier()\n",
        "clf_dt.fit(X_train, y_train)\n",
        "\n",
        "# predict and accuracy\n",
        "y_pred = clf_dt.predict(X_test)\n",
        "accuracy = accuracy_score(y_test, y_pred)\n",
        "print(\"Accuracy:\", accuracy)"
      ],
      "metadata": {
        "colab": {
          "base_uri": "https://localhost:8080/"
        },
        "id": "hxHrtlIPnfyv",
        "outputId": "f1ce8453-015d-4153-bf8f-81e88125247a"
      },
      "execution_count": 167,
      "outputs": [
        {
          "output_type": "stream",
          "name": "stdout",
          "text": [
            "Accuracy: 0.7245283018867924\n"
          ]
        }
      ]
    },
    {
      "cell_type": "markdown",
      "source": [
        "Random Forest"
      ],
      "metadata": {
        "id": "LiJWUHs-ngpT"
      }
    },
    {
      "cell_type": "code",
      "source": [
        "from sklearn.ensemble import RandomForestClassifier\n",
        "from sklearn.metrics import accuracy_score\n",
        "\n",
        "# X, Y and split\n",
        "df_match_lineup_rating = df_match_lineup_rating.dropna()\n",
        "X = df_match_lineup_rating.drop(['home_team_result_encoded', 'match_id', 'match_utc', 'home_team_name', 'home_team_score', 'home_team_result', 'away_team_name', 'away_team_score', 'away_team_result'], axis=1)\n",
        "y = df_match_lineup_rating['home_team_result_encoded']\n",
        "X_train, X_test, y_train, y_test = train_test_split(X, y, test_size=0.3)\n",
        "\n",
        "# model\n",
        "clf_rf = RandomForestClassifier(n_estimators=100, random_state=42)\n",
        "clf_rf.fit(X_train, y_train)\n",
        "\n",
        "# predict and accuracy\n",
        "y_pred = clf_rf.predict(X_test)\n",
        "accuracy = accuracy_score(y_test, y_pred)\n",
        "print(\"Accuracy:\", accuracy)"
      ],
      "metadata": {
        "colab": {
          "base_uri": "https://localhost:8080/"
        },
        "id": "ofN9mGy1ni2D",
        "outputId": "b741b3e5-3a18-425c-91d3-52dfa4668fe4"
      },
      "execution_count": 173,
      "outputs": [
        {
          "output_type": "stream",
          "name": "stdout",
          "text": [
            "Accuracy: 0.8415094339622642\n"
          ]
        }
      ]
    },
    {
      "cell_type": "markdown",
      "source": [
        "Support Vector Machine"
      ],
      "metadata": {
        "id": "Dsh-WVWLnjTw"
      }
    },
    {
      "cell_type": "code",
      "source": [
        "from sklearn.model_selection import train_test_split\n",
        "from sklearn.metrics import accuracy_score\n",
        "from sklearn.svm import SVC\n",
        "\n",
        "# X, Y and split\n",
        "df_match_lineup_rating = df_match_lineup_rating.dropna()\n",
        "X = df_match_lineup_rating.drop(['home_team_result_encoded', 'match_id', 'match_utc', 'home_team_name', 'home_team_score', 'home_team_result', 'away_team_name', 'away_team_score', 'away_team_result'], axis=1)\n",
        "y = df_match_lineup_rating['home_team_result_encoded']\n",
        "X_train, X_test, y_train, y_test = train_test_split(X, y, test_size=0.3)\n",
        "\n",
        "# model\n",
        "clf_svm = SVC(kernel='linear', C=1, random_state=42)\n",
        "clf_svm.fit(X_train, y_train)\n",
        "\n",
        "# predict and accuracy\n",
        "y_pred = clf_svm.predict(X_test)\n",
        "accuracy = accuracy_score(y_test, y_pred)\n",
        "print(\"Accuracy:\", accuracy)"
      ],
      "metadata": {
        "colab": {
          "base_uri": "https://localhost:8080/"
        },
        "id": "xsqa3VBmnl7-",
        "outputId": "9c40f427-9f72-4cbb-b0f9-b1e32d30c45e"
      },
      "execution_count": 169,
      "outputs": [
        {
          "output_type": "stream",
          "name": "stdout",
          "text": [
            "Accuracy: 0.6830188679245283\n"
          ]
        }
      ]
    },
    {
      "cell_type": "code",
      "source": [
        "X_test"
      ],
      "metadata": {
        "colab": {
          "base_uri": "https://localhost:8080/",
          "height": 488
        },
        "id": "MFf_DSY5vDm6",
        "outputId": "8bd4efd0-fb8d-4339-ab3b-77862f8181c0"
      },
      "execution_count": 170,
      "outputs": [
        {
          "output_type": "execute_result",
          "data": {
            "text/plain": [
              "      home_team_id  away_team_id  home_player_109222  away_player_109222  \\\n",
              "141           8654          8197                 0.0                 0.0   \n",
              "983          10261          9825                 0.0                 0.0   \n",
              "609           8586          8197                 0.0                 0.0   \n",
              "484           8191          9817                 0.0                 0.0   \n",
              "1715         10204          8466                 0.0                 0.0   \n",
              "...            ...           ...                 ...                 ...   \n",
              "1015          8668          8602                 0.0                 0.0   \n",
              "755           8650          8602                 0.0                 0.0   \n",
              "1109         10261         10260                 0.0                 0.0   \n",
              "1369         10252         10260                 0.0                 0.0   \n",
              "394          10204          8463                 0.0                 0.0   \n",
              "\n",
              "      home_player_157838  away_player_157838  home_player_503659  \\\n",
              "141                  0.0                 0.0                 0.0   \n",
              "983                  0.0                 0.0                 0.0   \n",
              "609                  0.0                 0.0                 0.0   \n",
              "484                  0.0                 0.0                 0.0   \n",
              "1715                 0.0                 0.0                 0.0   \n",
              "...                  ...                 ...                 ...   \n",
              "1015                 0.0                 0.0                 0.0   \n",
              "755                  0.0                 0.0                 0.0   \n",
              "1109                 0.0                 0.0                 0.0   \n",
              "1369                 0.0                 0.0                 0.0   \n",
              "394                  0.0                 0.0                 0.0   \n",
              "\n",
              "      away_player_503659  home_player_844425  away_player_844425  ...  \\\n",
              "141                  0.0                 0.0                 0.0  ...   \n",
              "983                  0.0                 0.0                 0.0  ...   \n",
              "609                  0.0                 0.0                 0.0  ...   \n",
              "484                  0.0                 0.0                 0.0  ...   \n",
              "1715                 0.0                 0.0                 0.0  ...   \n",
              "...                  ...                 ...                 ...  ...   \n",
              "1015                 0.0                 0.0                 0.0  ...   \n",
              "755                  0.0                 0.0                 0.0  ...   \n",
              "1109                 0.0                 0.0                 0.0  ...   \n",
              "1369                 0.0                 0.0                 0.0  ...   \n",
              "394                  0.0                 0.0                 0.0  ...   \n",
              "\n",
              "      home_player_131991  away_player_131991  home_player_660321  \\\n",
              "141                  0.0                   0                 0.0   \n",
              "983                  0.0                   0                 0.0   \n",
              "609                  0.0                   0                 0.0   \n",
              "484                  0.0                   0                 0.0   \n",
              "1715                 0.0                   0                 0.0   \n",
              "...                  ...                 ...                 ...   \n",
              "1015                 0.0                   0                 0.0   \n",
              "755                  0.0                   0                 0.0   \n",
              "1109                 0.0                   0                 0.0   \n",
              "1369                 0.0                   0                 0.0   \n",
              "394                  0.0                   0                 0.0   \n",
              "\n",
              "      away_player_660321  home_player_719219  away_player_719219  \\\n",
              "141                  0.0                 0.0                 0.0   \n",
              "983                  0.0                 0.0                 0.0   \n",
              "609                  0.0                 0.0                 0.0   \n",
              "484                  0.0                 0.0                 0.0   \n",
              "1715                 0.0                 0.0                 0.0   \n",
              "...                  ...                 ...                 ...   \n",
              "1015                 0.0                 0.0                 0.0   \n",
              "755                  0.0                 0.0                 0.0   \n",
              "1109                 0.0                 0.0                 0.0   \n",
              "1369                 0.0                 0.0                 0.0   \n",
              "394                  0.0                 0.0                 0.0   \n",
              "\n",
              "      home_player_244811  away_player_244811  home_player_478367  \\\n",
              "141                    0                 0.0                   0   \n",
              "983                    0                 0.0                   0   \n",
              "609                    0                 0.0                   0   \n",
              "484                    0                 0.0                   0   \n",
              "1715                   0                 0.0                   0   \n",
              "...                  ...                 ...                 ...   \n",
              "1015                   0                 0.0                   0   \n",
              "755                    0                 0.0                   0   \n",
              "1109                   0                 0.0                   0   \n",
              "1369                   0                 0.0                   0   \n",
              "394                    0                 0.0                   0   \n",
              "\n",
              "      away_player_478367  \n",
              "141                  0.0  \n",
              "983                  0.0  \n",
              "609                  0.0  \n",
              "484                  0.0  \n",
              "1715                 0.0  \n",
              "...                  ...  \n",
              "1015                 0.0  \n",
              "755                  0.0  \n",
              "1109                 0.0  \n",
              "1369                 0.0  \n",
              "394                  0.0  \n",
              "\n",
              "[530 rows x 1982 columns]"
            ],
            "text/html": [
              "\n",
              "  <div id=\"df-29edb4c1-1332-4ccc-9166-a40dd154c354\">\n",
              "    <div class=\"colab-df-container\">\n",
              "      <div>\n",
              "<style scoped>\n",
              "    .dataframe tbody tr th:only-of-type {\n",
              "        vertical-align: middle;\n",
              "    }\n",
              "\n",
              "    .dataframe tbody tr th {\n",
              "        vertical-align: top;\n",
              "    }\n",
              "\n",
              "    .dataframe thead th {\n",
              "        text-align: right;\n",
              "    }\n",
              "</style>\n",
              "<table border=\"1\" class=\"dataframe\">\n",
              "  <thead>\n",
              "    <tr style=\"text-align: right;\">\n",
              "      <th></th>\n",
              "      <th>home_team_id</th>\n",
              "      <th>away_team_id</th>\n",
              "      <th>home_player_109222</th>\n",
              "      <th>away_player_109222</th>\n",
              "      <th>home_player_157838</th>\n",
              "      <th>away_player_157838</th>\n",
              "      <th>home_player_503659</th>\n",
              "      <th>away_player_503659</th>\n",
              "      <th>home_player_844425</th>\n",
              "      <th>away_player_844425</th>\n",
              "      <th>...</th>\n",
              "      <th>home_player_131991</th>\n",
              "      <th>away_player_131991</th>\n",
              "      <th>home_player_660321</th>\n",
              "      <th>away_player_660321</th>\n",
              "      <th>home_player_719219</th>\n",
              "      <th>away_player_719219</th>\n",
              "      <th>home_player_244811</th>\n",
              "      <th>away_player_244811</th>\n",
              "      <th>home_player_478367</th>\n",
              "      <th>away_player_478367</th>\n",
              "    </tr>\n",
              "  </thead>\n",
              "  <tbody>\n",
              "    <tr>\n",
              "      <th>141</th>\n",
              "      <td>8654</td>\n",
              "      <td>8197</td>\n",
              "      <td>0.0</td>\n",
              "      <td>0.0</td>\n",
              "      <td>0.0</td>\n",
              "      <td>0.0</td>\n",
              "      <td>0.0</td>\n",
              "      <td>0.0</td>\n",
              "      <td>0.0</td>\n",
              "      <td>0.0</td>\n",
              "      <td>...</td>\n",
              "      <td>0.0</td>\n",
              "      <td>0</td>\n",
              "      <td>0.0</td>\n",
              "      <td>0.0</td>\n",
              "      <td>0.0</td>\n",
              "      <td>0.0</td>\n",
              "      <td>0</td>\n",
              "      <td>0.0</td>\n",
              "      <td>0</td>\n",
              "      <td>0.0</td>\n",
              "    </tr>\n",
              "    <tr>\n",
              "      <th>983</th>\n",
              "      <td>10261</td>\n",
              "      <td>9825</td>\n",
              "      <td>0.0</td>\n",
              "      <td>0.0</td>\n",
              "      <td>0.0</td>\n",
              "      <td>0.0</td>\n",
              "      <td>0.0</td>\n",
              "      <td>0.0</td>\n",
              "      <td>0.0</td>\n",
              "      <td>0.0</td>\n",
              "      <td>...</td>\n",
              "      <td>0.0</td>\n",
              "      <td>0</td>\n",
              "      <td>0.0</td>\n",
              "      <td>0.0</td>\n",
              "      <td>0.0</td>\n",
              "      <td>0.0</td>\n",
              "      <td>0</td>\n",
              "      <td>0.0</td>\n",
              "      <td>0</td>\n",
              "      <td>0.0</td>\n",
              "    </tr>\n",
              "    <tr>\n",
              "      <th>609</th>\n",
              "      <td>8586</td>\n",
              "      <td>8197</td>\n",
              "      <td>0.0</td>\n",
              "      <td>0.0</td>\n",
              "      <td>0.0</td>\n",
              "      <td>0.0</td>\n",
              "      <td>0.0</td>\n",
              "      <td>0.0</td>\n",
              "      <td>0.0</td>\n",
              "      <td>0.0</td>\n",
              "      <td>...</td>\n",
              "      <td>0.0</td>\n",
              "      <td>0</td>\n",
              "      <td>0.0</td>\n",
              "      <td>0.0</td>\n",
              "      <td>0.0</td>\n",
              "      <td>0.0</td>\n",
              "      <td>0</td>\n",
              "      <td>0.0</td>\n",
              "      <td>0</td>\n",
              "      <td>0.0</td>\n",
              "    </tr>\n",
              "    <tr>\n",
              "      <th>484</th>\n",
              "      <td>8191</td>\n",
              "      <td>9817</td>\n",
              "      <td>0.0</td>\n",
              "      <td>0.0</td>\n",
              "      <td>0.0</td>\n",
              "      <td>0.0</td>\n",
              "      <td>0.0</td>\n",
              "      <td>0.0</td>\n",
              "      <td>0.0</td>\n",
              "      <td>0.0</td>\n",
              "      <td>...</td>\n",
              "      <td>0.0</td>\n",
              "      <td>0</td>\n",
              "      <td>0.0</td>\n",
              "      <td>0.0</td>\n",
              "      <td>0.0</td>\n",
              "      <td>0.0</td>\n",
              "      <td>0</td>\n",
              "      <td>0.0</td>\n",
              "      <td>0</td>\n",
              "      <td>0.0</td>\n",
              "    </tr>\n",
              "    <tr>\n",
              "      <th>1715</th>\n",
              "      <td>10204</td>\n",
              "      <td>8466</td>\n",
              "      <td>0.0</td>\n",
              "      <td>0.0</td>\n",
              "      <td>0.0</td>\n",
              "      <td>0.0</td>\n",
              "      <td>0.0</td>\n",
              "      <td>0.0</td>\n",
              "      <td>0.0</td>\n",
              "      <td>0.0</td>\n",
              "      <td>...</td>\n",
              "      <td>0.0</td>\n",
              "      <td>0</td>\n",
              "      <td>0.0</td>\n",
              "      <td>0.0</td>\n",
              "      <td>0.0</td>\n",
              "      <td>0.0</td>\n",
              "      <td>0</td>\n",
              "      <td>0.0</td>\n",
              "      <td>0</td>\n",
              "      <td>0.0</td>\n",
              "    </tr>\n",
              "    <tr>\n",
              "      <th>...</th>\n",
              "      <td>...</td>\n",
              "      <td>...</td>\n",
              "      <td>...</td>\n",
              "      <td>...</td>\n",
              "      <td>...</td>\n",
              "      <td>...</td>\n",
              "      <td>...</td>\n",
              "      <td>...</td>\n",
              "      <td>...</td>\n",
              "      <td>...</td>\n",
              "      <td>...</td>\n",
              "      <td>...</td>\n",
              "      <td>...</td>\n",
              "      <td>...</td>\n",
              "      <td>...</td>\n",
              "      <td>...</td>\n",
              "      <td>...</td>\n",
              "      <td>...</td>\n",
              "      <td>...</td>\n",
              "      <td>...</td>\n",
              "      <td>...</td>\n",
              "    </tr>\n",
              "    <tr>\n",
              "      <th>1015</th>\n",
              "      <td>8668</td>\n",
              "      <td>8602</td>\n",
              "      <td>0.0</td>\n",
              "      <td>0.0</td>\n",
              "      <td>0.0</td>\n",
              "      <td>0.0</td>\n",
              "      <td>0.0</td>\n",
              "      <td>0.0</td>\n",
              "      <td>0.0</td>\n",
              "      <td>0.0</td>\n",
              "      <td>...</td>\n",
              "      <td>0.0</td>\n",
              "      <td>0</td>\n",
              "      <td>0.0</td>\n",
              "      <td>0.0</td>\n",
              "      <td>0.0</td>\n",
              "      <td>0.0</td>\n",
              "      <td>0</td>\n",
              "      <td>0.0</td>\n",
              "      <td>0</td>\n",
              "      <td>0.0</td>\n",
              "    </tr>\n",
              "    <tr>\n",
              "      <th>755</th>\n",
              "      <td>8650</td>\n",
              "      <td>8602</td>\n",
              "      <td>0.0</td>\n",
              "      <td>0.0</td>\n",
              "      <td>0.0</td>\n",
              "      <td>0.0</td>\n",
              "      <td>0.0</td>\n",
              "      <td>0.0</td>\n",
              "      <td>0.0</td>\n",
              "      <td>0.0</td>\n",
              "      <td>...</td>\n",
              "      <td>0.0</td>\n",
              "      <td>0</td>\n",
              "      <td>0.0</td>\n",
              "      <td>0.0</td>\n",
              "      <td>0.0</td>\n",
              "      <td>0.0</td>\n",
              "      <td>0</td>\n",
              "      <td>0.0</td>\n",
              "      <td>0</td>\n",
              "      <td>0.0</td>\n",
              "    </tr>\n",
              "    <tr>\n",
              "      <th>1109</th>\n",
              "      <td>10261</td>\n",
              "      <td>10260</td>\n",
              "      <td>0.0</td>\n",
              "      <td>0.0</td>\n",
              "      <td>0.0</td>\n",
              "      <td>0.0</td>\n",
              "      <td>0.0</td>\n",
              "      <td>0.0</td>\n",
              "      <td>0.0</td>\n",
              "      <td>0.0</td>\n",
              "      <td>...</td>\n",
              "      <td>0.0</td>\n",
              "      <td>0</td>\n",
              "      <td>0.0</td>\n",
              "      <td>0.0</td>\n",
              "      <td>0.0</td>\n",
              "      <td>0.0</td>\n",
              "      <td>0</td>\n",
              "      <td>0.0</td>\n",
              "      <td>0</td>\n",
              "      <td>0.0</td>\n",
              "    </tr>\n",
              "    <tr>\n",
              "      <th>1369</th>\n",
              "      <td>10252</td>\n",
              "      <td>10260</td>\n",
              "      <td>0.0</td>\n",
              "      <td>0.0</td>\n",
              "      <td>0.0</td>\n",
              "      <td>0.0</td>\n",
              "      <td>0.0</td>\n",
              "      <td>0.0</td>\n",
              "      <td>0.0</td>\n",
              "      <td>0.0</td>\n",
              "      <td>...</td>\n",
              "      <td>0.0</td>\n",
              "      <td>0</td>\n",
              "      <td>0.0</td>\n",
              "      <td>0.0</td>\n",
              "      <td>0.0</td>\n",
              "      <td>0.0</td>\n",
              "      <td>0</td>\n",
              "      <td>0.0</td>\n",
              "      <td>0</td>\n",
              "      <td>0.0</td>\n",
              "    </tr>\n",
              "    <tr>\n",
              "      <th>394</th>\n",
              "      <td>10204</td>\n",
              "      <td>8463</td>\n",
              "      <td>0.0</td>\n",
              "      <td>0.0</td>\n",
              "      <td>0.0</td>\n",
              "      <td>0.0</td>\n",
              "      <td>0.0</td>\n",
              "      <td>0.0</td>\n",
              "      <td>0.0</td>\n",
              "      <td>0.0</td>\n",
              "      <td>...</td>\n",
              "      <td>0.0</td>\n",
              "      <td>0</td>\n",
              "      <td>0.0</td>\n",
              "      <td>0.0</td>\n",
              "      <td>0.0</td>\n",
              "      <td>0.0</td>\n",
              "      <td>0</td>\n",
              "      <td>0.0</td>\n",
              "      <td>0</td>\n",
              "      <td>0.0</td>\n",
              "    </tr>\n",
              "  </tbody>\n",
              "</table>\n",
              "<p>530 rows × 1982 columns</p>\n",
              "</div>\n",
              "      <button class=\"colab-df-convert\" onclick=\"convertToInteractive('df-29edb4c1-1332-4ccc-9166-a40dd154c354')\"\n",
              "              title=\"Convert this dataframe to an interactive table.\"\n",
              "              style=\"display:none;\">\n",
              "        \n",
              "  <svg xmlns=\"http://www.w3.org/2000/svg\" height=\"24px\"viewBox=\"0 0 24 24\"\n",
              "       width=\"24px\">\n",
              "    <path d=\"M0 0h24v24H0V0z\" fill=\"none\"/>\n",
              "    <path d=\"M18.56 5.44l.94 2.06.94-2.06 2.06-.94-2.06-.94-.94-2.06-.94 2.06-2.06.94zm-11 1L8.5 8.5l.94-2.06 2.06-.94-2.06-.94L8.5 2.5l-.94 2.06-2.06.94zm10 10l.94 2.06.94-2.06 2.06-.94-2.06-.94-.94-2.06-.94 2.06-2.06.94z\"/><path d=\"M17.41 7.96l-1.37-1.37c-.4-.4-.92-.59-1.43-.59-.52 0-1.04.2-1.43.59L10.3 9.45l-7.72 7.72c-.78.78-.78 2.05 0 2.83L4 21.41c.39.39.9.59 1.41.59.51 0 1.02-.2 1.41-.59l7.78-7.78 2.81-2.81c.8-.78.8-2.07 0-2.86zM5.41 20L4 18.59l7.72-7.72 1.47 1.35L5.41 20z\"/>\n",
              "  </svg>\n",
              "      </button>\n",
              "      \n",
              "  <style>\n",
              "    .colab-df-container {\n",
              "      display:flex;\n",
              "      flex-wrap:wrap;\n",
              "      gap: 12px;\n",
              "    }\n",
              "\n",
              "    .colab-df-convert {\n",
              "      background-color: #E8F0FE;\n",
              "      border: none;\n",
              "      border-radius: 50%;\n",
              "      cursor: pointer;\n",
              "      display: none;\n",
              "      fill: #1967D2;\n",
              "      height: 32px;\n",
              "      padding: 0 0 0 0;\n",
              "      width: 32px;\n",
              "    }\n",
              "\n",
              "    .colab-df-convert:hover {\n",
              "      background-color: #E2EBFA;\n",
              "      box-shadow: 0px 1px 2px rgba(60, 64, 67, 0.3), 0px 1px 3px 1px rgba(60, 64, 67, 0.15);\n",
              "      fill: #174EA6;\n",
              "    }\n",
              "\n",
              "    [theme=dark] .colab-df-convert {\n",
              "      background-color: #3B4455;\n",
              "      fill: #D2E3FC;\n",
              "    }\n",
              "\n",
              "    [theme=dark] .colab-df-convert:hover {\n",
              "      background-color: #434B5C;\n",
              "      box-shadow: 0px 1px 3px 1px rgba(0, 0, 0, 0.15);\n",
              "      filter: drop-shadow(0px 1px 2px rgba(0, 0, 0, 0.3));\n",
              "      fill: #FFFFFF;\n",
              "    }\n",
              "  </style>\n",
              "\n",
              "      <script>\n",
              "        const buttonEl =\n",
              "          document.querySelector('#df-29edb4c1-1332-4ccc-9166-a40dd154c354 button.colab-df-convert');\n",
              "        buttonEl.style.display =\n",
              "          google.colab.kernel.accessAllowed ? 'block' : 'none';\n",
              "\n",
              "        async function convertToInteractive(key) {\n",
              "          const element = document.querySelector('#df-29edb4c1-1332-4ccc-9166-a40dd154c354');\n",
              "          const dataTable =\n",
              "            await google.colab.kernel.invokeFunction('convertToInteractive',\n",
              "                                                     [key], {});\n",
              "          if (!dataTable) return;\n",
              "\n",
              "          const docLinkHtml = 'Like what you see? Visit the ' +\n",
              "            '<a target=\"_blank\" href=https://colab.research.google.com/notebooks/data_table.ipynb>data table notebook</a>'\n",
              "            + ' to learn more about interactive tables.';\n",
              "          element.innerHTML = '';\n",
              "          dataTable['output_type'] = 'display_data';\n",
              "          await google.colab.output.renderOutput(dataTable, element);\n",
              "          const docLink = document.createElement('div');\n",
              "          docLink.innerHTML = docLinkHtml;\n",
              "          element.appendChild(docLink);\n",
              "        }\n",
              "      </script>\n",
              "    </div>\n",
              "  </div>\n",
              "  "
            ]
          },
          "metadata": {},
          "execution_count": 170
        }
      ]
    },
    {
      "cell_type": "code",
      "source": [],
      "metadata": {
        "id": "ArNDwVREvE2w"
      },
      "execution_count": null,
      "outputs": []
    },
    {
      "cell_type": "markdown",
      "source": [
        "Fine tune Random Forest"
      ],
      "metadata": {
        "id": "CvJC4noQwyZx"
      }
    },
    {
      "cell_type": "code",
      "source": [
        "from sklearn.ensemble import RandomForestClassifier\n",
        "from sklearn.model_selection import RandomizedSearchCV\n",
        "from sklearn.metrics import accuracy_score\n",
        "\n",
        "# X, Y and split\n",
        "df_match_lineup_rating = df_match_lineup_rating.dropna()\n",
        "X = df_match_lineup_rating.drop(['home_team_result_encoded', 'match_id', 'match_utc', 'home_team_name', 'home_team_score', 'home_team_result', 'away_team_name', 'away_team_score', 'away_team_result'], axis=1)\n",
        "y = df_match_lineup_rating['home_team_result_encoded']\n",
        "X_train, X_test, y_train, y_test = train_test_split(X, y, test_size=0.3)\n",
        "\n",
        "# Define hyperparameters\n",
        "params = {\n",
        "    'n_estimators': [50, 100, 200, 300],\n",
        "    'max_depth': [10, 20, 30, None],\n",
        "    'min_samples_split': [2, 5, 10],\n",
        "    'min_samples_leaf': [1, 2, 4],\n",
        "    'bootstrap': [True, False]\n",
        "}\n",
        "\n",
        "# Randomized Search CV\n",
        "rf = RandomForestClassifier(random_state=42)\n",
        "clf_rf = RandomizedSearchCV(rf, params, n_iter=50, cv=5, random_state=42)\n",
        "clf_rf.fit(X_train, y_train)\n",
        "\n",
        "# Best parameters and accuracy\n",
        "best_params = clf_rf.best_params_\n",
        "print(\"Best parameters:\", best_params)\n",
        "y_pred = clf_rf.predict(X_test)\n",
        "accuracy = accuracy_score(y_test, y_pred)\n",
        "print(\"Accuracy:\", accuracy)"
      ],
      "metadata": {
        "colab": {
          "base_uri": "https://localhost:8080/"
        },
        "id": "QJlBrCjFwz0C",
        "outputId": "26b59570-fa10-45e9-e08a-1f220cd8a138"
      },
      "execution_count": 171,
      "outputs": [
        {
          "output_type": "stream",
          "name": "stdout",
          "text": [
            "Best parameters: {'n_estimators': 50, 'min_samples_split': 10, 'min_samples_leaf': 1, 'max_depth': None, 'bootstrap': True}\n",
            "Accuracy: 0.8301886792452831\n"
          ]
        }
      ]
    }
  ]
}